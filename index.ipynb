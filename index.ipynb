{
 "cells": [
  {
   "cell_type": "markdown",
   "metadata": {},
   "source": [
    "# Project: Analyzing Macbeth\n",
    "\n",
    "## Introduction\n",
    "Now we're going to do some rudimentary analysis of Shakespeare's classic play: Macbeth! You will get practice working with lists and dictionaries, conditionals, visualizing data, and thinking analytically about data.\n",
    "\n",
    "## Objectives\n",
    "You will be able to:\n",
    "* Apply string methods to make changes to a string\n",
    "* Use a `for` loop to iterate over a collection\n",
    "* Assign values in a dictionary\n",
    "\n",
    "## Getting the Data\n",
    "Here we start by importing a Python package called `requests`. We'll use it to pull the transcript of Macbeth from the [Project Gutenberg](https://www.gutenberg.org/) website. We'll also preview a few details about what is now stored in the variable `macbeth`. As you can see, it's a string with 120,253 characters - the first 500 of which are printed below. "
   ]
  },
  {
   "cell_type": "code",
   "execution_count": 1,
   "metadata": {
    "scrolled": true
   },
   "outputs": [
    {
     "name": "stdout",
     "output_type": "stream",
     "text": [
      "<class 'str'>\n",
      "120253\n",
      "﻿\r\n",
      "\r\n",
      "***The Project Gutenberg's Etext of Shakespeare's First Folio***\r\n",
      "********************The Tragedie of Macbeth*********************\r\n",
      "\r\n",
      "\r\n",
      "\r\n",
      "*******************************************************************\r\n",
      "THIS EBOOK WAS ONE OF PROJECT GUTENBERG'S EARLY FILES PRODUCED AT A\r\n",
      "TIME WHEN PROOFING METHODS AND TOOLS WERE NOT WELL DEVELOPED. THERE\r\n",
      "IS AN IMPROVED EDITION OF THIS TITLE WHICH MAY BE VIEWED AS EBOOK\r\n",
      "(#1533) at https://www.gutenberg.org/ebooks/1533\r\n",
      "*********************************\n"
     ]
    }
   ],
   "source": [
    "import requests\n",
    "macbeth = requests.get('http://www.gutenberg.org/cache/epub/2264/pg2264.txt').text\n",
    "\n",
    "print(type(macbeth))\n",
    "print(len(macbeth))\n",
    "print(macbeth[:500])"
   ]
  },
  {
   "cell_type": "markdown",
   "metadata": {},
   "source": [
    "## Your Task\n",
    "\n",
    "Your task is to create a bar graph of the 25 most common words in Shakespeare's Macbeth.  \n",
    "\n",
    "\n",
    "A common Python programming pattern to count objects, produce histograms, or update statistics is to make calls to a dictionary as you iterate through a list. For example, given a list of words, you can create a dictionary to store counts and then iterate through the list of words, checking how many times each word has appeared using your dictionary, and updating the dictionary count now that you've seen that word again. The `.get()` dictionary method is very useful in doing this. Read the docstring for the `.get()` method and use it along with the pseudocode below to create a bar graph of the 25 most common words from the transcript of Macbeth which has been loaded into the variable 'macbeth'. Be sure to include a title and appropriate labels for your graph.\n",
    "\n",
    "To get the 25 *most common* words, you will have to sort your counts. If you are not super sure how to do this, checkout out the [Sorting HOW TO](https://docs.python.org/3/howto/sorting.html) Python documentation. Part of being a data scientist is figuring out how to do tasks that you may not have done before. Remember, in these situations, Google is your friend!"
   ]
  },
  {
   "cell_type": "code",
   "execution_count": 60,
   "metadata": {
    "scrolled": false
   },
   "outputs": [
    {
     "name": "stdout",
     "output_type": "stream",
     "text": [
      "\n",
      "CLEAN:\n",
      " ['\\ufeff', 'The', 'Project', \"Gutenberg's\", 'Etext', 'of', \"Shakespeare's\", 'First', 'Folio', 'The', 'Tragedie', 'of', 'Macbeth', '', 'THIS', 'EBOOK', 'WAS', 'ONE', 'OF', 'PROJECT', \"GUTENBERG'S\", 'EARLY', 'FILES', 'PRODUCED', 'AT', 'A', 'TIME', 'WHEN', 'PROOFING', 'METHODS', 'AND', 'TOOLS', 'WERE', 'NOT', 'WELL', 'DEVELOPED', 'THERE', 'IS', 'AN', 'IMPROVED', 'EDITION', 'OF', 'THIS', 'TITLE', 'WHICH', 'MAY', 'BE', 'VIEWED', 'AS', 'EBOOK', '', 'at', 'https://www.gutenberg.org/ebooks', '', 'This', 'is', 'our', 'rd', 'edition', 'of', 'most', 'of', 'these', 'plays', 'See', 'the', 'index', 'Copyright', 'laws', 'are', 'changing', 'all', 'over', 'the', 'world', 'be', 'sure', 'to', 'check', 'the', 'copyright', 'laws', 'for', 'your', 'country', 'before', 'posting', 'these', 'files', 'Please', 'take', 'a', 'look', 'at', 'the', 'important', 'information', 'in', 'this', 'header', 'We', 'encourage', 'you', 'to', 'keep', 'this', 'file', 'on', 'your', 'own', 'disk', 'keeping', 'an', 'electronic', 'path', 'open', 'for', 'the', 'next', 'readers', 'Do', 'not', 'remove', 'this', 'Welcome', 'To', 'The', 'World', 'of', 'Free', 'Plain', 'Vanilla', 'Electronic', 'Texts', 'Etexts', 'Readable', 'By', 'Both', 'Humans', 'and', 'By', 'Computers', 'Since', '', 'These', 'Etexts', 'Prepared', 'By', 'Hundreds', 'of', 'Volunteers', 'and', 'Donations', 'Information', 'on', 'contacting', 'Project', 'Gutenberg', 'to', 'get', 'Etexts', 'and', 'further', 'information', 'is', 'included', 'below', 'We', 'need', 'your', 'donations', 'The', 'Tragedie', 'of', 'Macbeth', 'by', 'William', 'Shakespeare', 'July', '', 'Etext', '', 'The', 'Project', \"Gutenberg's\", 'Etext', 'of', \"Shakespeare's\", 'First', 'Folio', 'The', 'Tragedie', 'of', 'Macbeth', 'This', 'file', 'should', 'be', 'named', 'txt', 'or', 'zip', 'Project', 'Gutenberg', 'Etexts', 'are', 'usually', 'created', 'from', 'multiple', 'editions', 'all', 'of', 'which', 'are', 'in', 'the', 'Public', 'Domain', 'in', 'the', 'United', 'States', 'unless', 'a', 'copyright', 'notice', 'is', 'included', 'Therefore', 'we', 'usually', 'do', 'NOT', 'keep', 'any', 'of', 'these', 'books', 'in', 'compliance', 'with', 'any', 'particular', 'paper', 'edition', 'We', 'are', 'now', 'trying', 'to', 'release', 'all', 'our', 'books', 'one', 'month', 'in', 'advance', 'of', 'the', 'official', 'release', 'dates', 'leaving', 'time', 'for', 'better', 'editing', 'Please', 'note', 'neither', 'this', 'list', 'nor', 'its', 'contents', 'are', 'final', 'till', 'midnight', 'of', 'the', 'last', 'day', 'of', 'the', 'month', 'of', 'any', 'such', 'announcement', 'The', 'official', 'release', 'date', 'of', 'all', 'Project', 'Gutenberg', 'Etexts', 'is', 'at', 'Midnight', 'Central', 'Time', 'of', 'the', 'last', 'day', 'of', 'the', 'stated', 'month', 'A', 'preliminary', 'version', 'may', 'often', 'be', 'posted', 'for', 'suggestion', 'comment', 'and', 'editing', 'by', 'those', 'who', 'wish', 'to', 'do', 'so', 'To', 'be', 'sure', 'you', 'have', 'an', 'up', 'to', 'date', 'first', 'edition', 'xxxxx10x.xxx', 'please', 'check', 'file', 'sizes', 'in', 'the', 'first', 'week', 'of', 'the', 'next', 'month', 'Since', 'our', 'ftp', 'program', 'has', 'a', 'bug', 'in', 'it', 'that', 'scrambles', 'the', 'date', 'tried', 'to', 'fix', 'and', 'failed', 'a', 'look', 'at', 'the', 'file', 'size', 'will', 'have', 'to', 'do', 'but', 'we', 'will', 'try', 'to', 'see', 'a', 'new', 'copy', 'has', 'at', 'least', 'one', 'byte', 'more', 'or', 'less', 'Information', 'about', 'Project', 'Gutenberg', 'one', 'page', 'We', 'produce', 'about', 'two', 'million', 'dollars', 'for', 'each', 'hour', 'we', 'work', 'The', 'time', 'it', 'takes', 'us', 'a', 'rather', 'conservative', 'estimate', 'is', 'fifty', 'hours', 'to', 'get', 'any', 'etext', 'selected', 'entered', 'proofread', 'edited', 'copyright', 'searched', 'and', 'analyzed', 'the', 'copyright', 'letters', 'written', 'etc', 'This', 'projected', 'audience', 'is', 'one', 'hundred', 'million', 'readers', 'If', 'our', 'value', 'per', 'text', 'is', 'nominally', 'estimated', 'at', 'one', 'dollar', 'then', 'we', 'produce', '', 'million', 'dollars', 'per', 'hour', 'this', 'year', 'as', 'we', 'release', 'thirty-six', 'text', 'files', 'per', 'month', 'or', '', 'more', 'Etexts', 'in', '', 'for', 'a', 'total', 'of', '', 'If', 'these', 'reach', 'just']\n"
     ]
    },
    {
     "data": {
      "text/plain": [
       "[(621, 'the'),\n",
       " (432, 'and'),\n",
       " (397, 'of'),\n",
       " (374, 'to'),\n",
       " (344, 'I'),\n",
       " (255, 'a'),\n",
       " (228, 'you'),\n",
       " (195, 'in'),\n",
       " (191, 'is'),\n",
       " (172, 'my'),\n",
       " (170, 'And'),\n",
       " (163, 'that'),\n",
       " (163, 'not'),\n",
       " (161, ''),\n",
       " (157, 'it'),\n",
       " (143, 'with'),\n",
       " (137, 'be'),\n",
       " (137, 'Macb'),\n",
       " (136, 'The'),\n",
       " (130, 'his'),\n",
       " (122, 'your'),\n",
       " (117, 'haue'),\n",
       " (116, 'this'),\n",
       " (116, 'our'),\n",
       " (109, 'me')]"
      ]
     },
     "execution_count": 60,
     "metadata": {},
     "output_type": "execute_result"
    }
   ],
   "source": [
    "import numpy as np\n",
    "import matplotlib.pyplot as plt\n",
    "import string\n",
    "%matplotlib inline\n",
    "\n",
    "# Your code here\n",
    "\n",
    "# Pseudo-code outline\n",
    "    #split the texts into a list of words\n",
    "    #discard symbols and non alphabet characters\n",
    "    #create a dictionary from the list of words with word count\n",
    "    \n",
    "# Split the transcript into words\n",
    "\n",
    "raw_words = macbeth.split()\n",
    "#print('RAW:\\n', raw_words[:500])\n",
    "\n",
    "punc = \"*,'', ., :, +, -, =, _, #, &, $, %, !, /, \\, @, :,(,), [, ], 0, 1, 2, 3, 4, 5, 6, 7, 8, 9\"\n",
    "\n",
    "clean_words = []\n",
    "for word in raw_words:\n",
    "    clean_word = word.strip(punc)\n",
    "    clean_words.append(clean_word)\n",
    "print('\\nCLEAN:\\n', clean_words[:500])\n",
    "\n",
    "#for char in string.punctuation:\n",
    "#     raw_words = raw_words.replace(char, '')\n",
    "# print(raw_words[:100])\n",
    "\n",
    "# Create a dictionary\n",
    "wordcount = {}\n",
    "\n",
    "# Iterate through the text of Macbeth\n",
    "for items in clean_words:\n",
    "    word = items.strip()\n",
    "    if word not in wordcount:\n",
    "        wordcount[word] = 0\n",
    "    wordcount[word] += 1   \n",
    "\n",
    "# Update word counts\n",
    "\n",
    "# Sort words by counts in descending order\n",
    "count = []\n",
    "for key, value in wordcount.items():\n",
    "    count.append((value, key))\n",
    "count.sort(reverse=True)\n",
    "\n",
    "count[:25]\n",
    "#sorted(wordcount.items(), reverse=False)\n",
    "\n",
    "# Create Bar Graph\n",
    "\n",
    "# Include descriptive titles and labels"
   ]
  },
  {
   "cell_type": "markdown",
   "metadata": {},
   "source": [
    "## Level Up (Optional)\n",
    "This project should take you about an hour and a half to complete. If you're done much more quickly than that and are not behind in the course, feel free to deepen your knowledge by completing any or all of the following tasks until you run out of time:\n",
    "* Create a list of top characters by mentions of their names \n",
    "* Split the text by which character is talking\n",
    "* Create subgraphs of the most common words by character\n",
    "* Reduce the string to the text of the play itself. (Remove any initial notes, forward, introduction, appendix, etc.)\n",
    "* Come up with some other fun analyses of the text!\n",
    "\n",
    "## Summary\n",
    "Congratulations! You've got some extra practice combining various data types into useful programming patterns and done an initial analysis of a classic text!"
   ]
  }
 ],
 "metadata": {
  "kernelspec": {
   "display_name": "Python 3",
   "language": "python",
   "name": "python3"
  },
  "language_info": {
   "codemirror_mode": {
    "name": "ipython",
    "version": 3
   },
   "file_extension": ".py",
   "mimetype": "text/x-python",
   "name": "python",
   "nbconvert_exporter": "python",
   "pygments_lexer": "ipython3",
   "version": "3.8.5"
  }
 },
 "nbformat": 4,
 "nbformat_minor": 2
}
